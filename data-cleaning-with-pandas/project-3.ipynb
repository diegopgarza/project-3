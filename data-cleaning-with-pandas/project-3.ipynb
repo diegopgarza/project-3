{
 "cells": [
  {
   "cell_type": "code",
   "execution_count": 1,
   "id": "1e6c643f",
   "metadata": {},
   "outputs": [],
   "source": [
    "import re\n",
    "import pandas as pd\n",
    "import numpy as np"
   ]
  },
  {
   "cell_type": "code",
   "execution_count": 2,
   "id": "07dba5e6",
   "metadata": {
    "scrolled": true
   },
   "outputs": [
    {
     "data": {
      "text/html": [
       "<div>\n",
       "<style scoped>\n",
       "    .dataframe tbody tr th:only-of-type {\n",
       "        vertical-align: middle;\n",
       "    }\n",
       "\n",
       "    .dataframe tbody tr th {\n",
       "        vertical-align: top;\n",
       "    }\n",
       "\n",
       "    .dataframe thead th {\n",
       "        text-align: right;\n",
       "    }\n",
       "</style>\n",
       "<table border=\"1\" class=\"dataframe\">\n",
       "  <thead>\n",
       "    <tr style=\"text-align: right;\">\n",
       "      <th></th>\n",
       "      <th>id</th>\n",
       "      <th>year</th>\n",
       "      <th>state_abbr</th>\n",
       "      <th>offense_code</th>\n",
       "      <th>offense_name</th>\n",
       "      <th>agencies</th>\n",
       "      <th>population</th>\n",
       "      <th>total_male</th>\n",
       "      <th>total_female</th>\n",
       "      <th>m_0_9</th>\n",
       "      <th>...</th>\n",
       "      <th>f_13_14</th>\n",
       "      <th>f_15</th>\n",
       "      <th>f_16</th>\n",
       "      <th>f_17</th>\n",
       "      <th>race_agencies</th>\n",
       "      <th>race_population</th>\n",
       "      <th>white</th>\n",
       "      <th>black</th>\n",
       "      <th>asian_pacific_islander</th>\n",
       "      <th>american_indian</th>\n",
       "    </tr>\n",
       "  </thead>\n",
       "  <tbody>\n",
       "    <tr>\n",
       "      <th>0</th>\n",
       "      <td>1081</td>\n",
       "      <td>2016</td>\n",
       "      <td>NaN</td>\n",
       "      <td>ASR_ARSON</td>\n",
       "      <td>Arson</td>\n",
       "      <td>13310</td>\n",
       "      <td>264534532</td>\n",
       "      <td>1760</td>\n",
       "      <td>328</td>\n",
       "      <td>117.0</td>\n",
       "      <td>...</td>\n",
       "      <td>114.0</td>\n",
       "      <td>66.0</td>\n",
       "      <td>39.0</td>\n",
       "      <td>43</td>\n",
       "      <td>12581</td>\n",
       "      <td>263887632</td>\n",
       "      <td>1436</td>\n",
       "      <td>516</td>\n",
       "      <td>41.0</td>\n",
       "      <td>48.0</td>\n",
       "    </tr>\n",
       "    <tr>\n",
       "      <th>1</th>\n",
       "      <td>1082</td>\n",
       "      <td>2016</td>\n",
       "      <td>NaN</td>\n",
       "      <td>ASR_AST</td>\n",
       "      <td>Aggravated Assault</td>\n",
       "      <td>13310</td>\n",
       "      <td>264534532</td>\n",
       "      <td>16997</td>\n",
       "      <td>5918</td>\n",
       "      <td>141.0</td>\n",
       "      <td>...</td>\n",
       "      <td>1565.0</td>\n",
       "      <td>1171.0</td>\n",
       "      <td>1337.0</td>\n",
       "      <td>1361</td>\n",
       "      <td>12581</td>\n",
       "      <td>263887632</td>\n",
       "      <td>12370</td>\n",
       "      <td>9736</td>\n",
       "      <td>296.0</td>\n",
       "      <td>364.0</td>\n",
       "    </tr>\n",
       "    <tr>\n",
       "      <th>2</th>\n",
       "      <td>1083</td>\n",
       "      <td>2016</td>\n",
       "      <td>NaN</td>\n",
       "      <td>ASR_AST_SMP</td>\n",
       "      <td>Simple Assault</td>\n",
       "      <td>13310</td>\n",
       "      <td>264534532</td>\n",
       "      <td>66360</td>\n",
       "      <td>38712</td>\n",
       "      <td>1043.0</td>\n",
       "      <td>...</td>\n",
       "      <td>11210.0</td>\n",
       "      <td>8036.0</td>\n",
       "      <td>8264.0</td>\n",
       "      <td>7590</td>\n",
       "      <td>12581</td>\n",
       "      <td>263887632</td>\n",
       "      <td>59778</td>\n",
       "      <td>41923</td>\n",
       "      <td>1130.0</td>\n",
       "      <td>1378.0</td>\n",
       "    </tr>\n",
       "    <tr>\n",
       "      <th>3</th>\n",
       "      <td>1084</td>\n",
       "      <td>2016</td>\n",
       "      <td>NaN</td>\n",
       "      <td>ASR_BRG</td>\n",
       "      <td>Burglary</td>\n",
       "      <td>13310</td>\n",
       "      <td>264534532</td>\n",
       "      <td>23307</td>\n",
       "      <td>3071</td>\n",
       "      <td>167.0</td>\n",
       "      <td>...</td>\n",
       "      <td>727.0</td>\n",
       "      <td>618.0</td>\n",
       "      <td>689.0</td>\n",
       "      <td>833</td>\n",
       "      <td>12581</td>\n",
       "      <td>263887632</td>\n",
       "      <td>14413</td>\n",
       "      <td>11082</td>\n",
       "      <td>368.0</td>\n",
       "      <td>362.0</td>\n",
       "    </tr>\n",
       "    <tr>\n",
       "      <th>4</th>\n",
       "      <td>1085</td>\n",
       "      <td>2016</td>\n",
       "      <td>NaN</td>\n",
       "      <td>ASR_CUR</td>\n",
       "      <td>Curfew and Loitering Law Violations</td>\n",
       "      <td>13310</td>\n",
       "      <td>264534532</td>\n",
       "      <td>19218</td>\n",
       "      <td>8319</td>\n",
       "      <td>110.0</td>\n",
       "      <td>...</td>\n",
       "      <td>1991.0</td>\n",
       "      <td>1887.0</td>\n",
       "      <td>2267.0</td>\n",
       "      <td>1701</td>\n",
       "      <td>12581</td>\n",
       "      <td>263887632</td>\n",
       "      <td>15468</td>\n",
       "      <td>11045</td>\n",
       "      <td>382.0</td>\n",
       "      <td>429.0</td>\n",
       "    </tr>\n",
       "  </tbody>\n",
       "</table>\n",
       "<p>5 rows × 27 columns</p>\n",
       "</div>"
      ],
      "text/plain": [
       "     id  year  state_abbr offense_code                         offense_name  \\\n",
       "0  1081  2016         NaN    ASR_ARSON                                Arson   \n",
       "1  1082  2016         NaN      ASR_AST                   Aggravated Assault   \n",
       "2  1083  2016         NaN  ASR_AST_SMP                       Simple Assault   \n",
       "3  1084  2016         NaN      ASR_BRG                             Burglary   \n",
       "4  1085  2016         NaN      ASR_CUR  Curfew and Loitering Law Violations   \n",
       "\n",
       "   agencies  population  total_male  total_female   m_0_9  ...  f_13_14  \\\n",
       "0     13310   264534532        1760           328   117.0  ...    114.0   \n",
       "1     13310   264534532       16997          5918   141.0  ...   1565.0   \n",
       "2     13310   264534532       66360         38712  1043.0  ...  11210.0   \n",
       "3     13310   264534532       23307          3071   167.0  ...    727.0   \n",
       "4     13310   264534532       19218          8319   110.0  ...   1991.0   \n",
       "\n",
       "     f_15    f_16  f_17  race_agencies  race_population  white  black  \\\n",
       "0    66.0    39.0    43          12581        263887632   1436    516   \n",
       "1  1171.0  1337.0  1361          12581        263887632  12370   9736   \n",
       "2  8036.0  8264.0  7590          12581        263887632  59778  41923   \n",
       "3   618.0   689.0   833          12581        263887632  14413  11082   \n",
       "4  1887.0  2267.0  1701          12581        263887632  15468  11045   \n",
       "\n",
       "   asian_pacific_islander  american_indian  \n",
       "0                    41.0             48.0  \n",
       "1                   296.0            364.0  \n",
       "2                  1130.0           1378.0  \n",
       "3                   368.0            362.0  \n",
       "4                   382.0            429.0  \n",
       "\n",
       "[5 rows x 27 columns]"
      ]
     },
     "execution_count": 2,
     "metadata": {},
     "output_type": "execute_result"
    }
   ],
   "source": [
    "df = pd.read_csv('arrests_usa_juvenile.csv')\n",
    "df.head()"
   ]
  },
  {
   "cell_type": "code",
   "execution_count": 3,
   "id": "7504ad28",
   "metadata": {},
   "outputs": [
    {
     "data": {
      "text/plain": [
       "Index(['id', 'year', 'state_abbr', 'offense_code', 'offense_name', 'agencies',\n",
       "       'population', 'total_male', 'total_female', 'm_0_9', 'm_10_12',\n",
       "       'm_13_14', 'm_15', 'm_16', 'm_17', 'f_0_9', 'f_10_12', 'f_13_14',\n",
       "       'f_15', 'f_16', 'f_17', 'race_agencies', 'race_population', 'white',\n",
       "       'black', 'asian_pacific_islander', 'american_indian'],\n",
       "      dtype='object')"
      ]
     },
     "execution_count": 3,
     "metadata": {},
     "output_type": "execute_result"
    }
   ],
   "source": [
    "df.columns"
   ]
  },
  {
   "cell_type": "code",
   "execution_count": 4,
   "id": "ac7fa086",
   "metadata": {},
   "outputs": [
    {
     "name": "stdout",
     "output_type": "stream",
     "text": [
      "<class 'pandas.core.frame.DataFrame'>\n",
      "RangeIndex: 690 entries, 0 to 689\n",
      "Data columns (total 27 columns):\n",
      " #   Column                  Non-Null Count  Dtype  \n",
      "---  ------                  --------------  -----  \n",
      " 0   id                      690 non-null    int64  \n",
      " 1   year                    690 non-null    int64  \n",
      " 2   state_abbr              0 non-null      float64\n",
      " 3   offense_code            690 non-null    object \n",
      " 4   offense_name            690 non-null    object \n",
      " 5   agencies                690 non-null    int64  \n",
      " 6   population              690 non-null    int64  \n",
      " 7   total_male              690 non-null    int64  \n",
      " 8   total_female            690 non-null    int64  \n",
      " 9   m_0_9                   654 non-null    float64\n",
      " 10  m_10_12                 685 non-null    float64\n",
      " 11  m_13_14                 690 non-null    int64  \n",
      " 12  m_15                    690 non-null    int64  \n",
      " 13  m_16                    690 non-null    int64  \n",
      " 14  m_17                    690 non-null    int64  \n",
      " 15  f_0_9                   594 non-null    float64\n",
      " 16  f_10_12                 651 non-null    float64\n",
      " 17  f_13_14                 681 non-null    float64\n",
      " 18  f_15                    684 non-null    float64\n",
      " 19  f_16                    687 non-null    float64\n",
      " 20  f_17                    690 non-null    int64  \n",
      " 21  race_agencies           690 non-null    int64  \n",
      " 22  race_population         690 non-null    int64  \n",
      " 23  white                   690 non-null    int64  \n",
      " 24  black                   690 non-null    int64  \n",
      " 25  asian_pacific_islander  678 non-null    float64\n",
      " 26  american_indian         661 non-null    float64\n",
      "dtypes: float64(10), int64(15), object(2)\n",
      "memory usage: 145.7+ KB\n"
     ]
    }
   ],
   "source": [
    "df.info()"
   ]
  },
  {
   "cell_type": "code",
   "execution_count": 5,
   "id": "82e5e169",
   "metadata": {},
   "outputs": [
    {
     "data": {
      "text/html": [
       "<div>\n",
       "<style scoped>\n",
       "    .dataframe tbody tr th:only-of-type {\n",
       "        vertical-align: middle;\n",
       "    }\n",
       "\n",
       "    .dataframe tbody tr th {\n",
       "        vertical-align: top;\n",
       "    }\n",
       "\n",
       "    .dataframe thead th {\n",
       "        text-align: right;\n",
       "    }\n",
       "</style>\n",
       "<table border=\"1\" class=\"dataframe\">\n",
       "  <thead>\n",
       "    <tr style=\"text-align: right;\">\n",
       "      <th></th>\n",
       "      <th>id</th>\n",
       "      <th>year</th>\n",
       "      <th>offense_code</th>\n",
       "      <th>offense_name</th>\n",
       "      <th>agencies</th>\n",
       "      <th>population</th>\n",
       "      <th>total_male</th>\n",
       "      <th>total_female</th>\n",
       "      <th>m_0_9</th>\n",
       "      <th>m_10_12</th>\n",
       "      <th>...</th>\n",
       "      <th>f_13_14</th>\n",
       "      <th>f_15</th>\n",
       "      <th>f_16</th>\n",
       "      <th>f_17</th>\n",
       "      <th>race_agencies</th>\n",
       "      <th>race_population</th>\n",
       "      <th>white</th>\n",
       "      <th>black</th>\n",
       "      <th>asian_pacific_islander</th>\n",
       "      <th>american_indian</th>\n",
       "    </tr>\n",
       "  </thead>\n",
       "  <tbody>\n",
       "    <tr>\n",
       "      <th>0</th>\n",
       "      <td>1081</td>\n",
       "      <td>2016</td>\n",
       "      <td>ASR_ARSON</td>\n",
       "      <td>Arson</td>\n",
       "      <td>13310</td>\n",
       "      <td>264534532</td>\n",
       "      <td>1760</td>\n",
       "      <td>328</td>\n",
       "      <td>117.0</td>\n",
       "      <td>368.0</td>\n",
       "      <td>...</td>\n",
       "      <td>114.0</td>\n",
       "      <td>66.0</td>\n",
       "      <td>39.0</td>\n",
       "      <td>43</td>\n",
       "      <td>12581</td>\n",
       "      <td>263887632</td>\n",
       "      <td>1436</td>\n",
       "      <td>516</td>\n",
       "      <td>41.0</td>\n",
       "      <td>48.0</td>\n",
       "    </tr>\n",
       "    <tr>\n",
       "      <th>1</th>\n",
       "      <td>1082</td>\n",
       "      <td>2016</td>\n",
       "      <td>ASR_AST</td>\n",
       "      <td>Aggravated Assault</td>\n",
       "      <td>13310</td>\n",
       "      <td>264534532</td>\n",
       "      <td>16997</td>\n",
       "      <td>5918</td>\n",
       "      <td>141.0</td>\n",
       "      <td>1406.0</td>\n",
       "      <td>...</td>\n",
       "      <td>1565.0</td>\n",
       "      <td>1171.0</td>\n",
       "      <td>1337.0</td>\n",
       "      <td>1361</td>\n",
       "      <td>12581</td>\n",
       "      <td>263887632</td>\n",
       "      <td>12370</td>\n",
       "      <td>9736</td>\n",
       "      <td>296.0</td>\n",
       "      <td>364.0</td>\n",
       "    </tr>\n",
       "    <tr>\n",
       "      <th>2</th>\n",
       "      <td>1083</td>\n",
       "      <td>2016</td>\n",
       "      <td>ASR_AST_SMP</td>\n",
       "      <td>Simple Assault</td>\n",
       "      <td>13310</td>\n",
       "      <td>264534532</td>\n",
       "      <td>66360</td>\n",
       "      <td>38712</td>\n",
       "      <td>1043.0</td>\n",
       "      <td>7406.0</td>\n",
       "      <td>...</td>\n",
       "      <td>11210.0</td>\n",
       "      <td>8036.0</td>\n",
       "      <td>8264.0</td>\n",
       "      <td>7590</td>\n",
       "      <td>12581</td>\n",
       "      <td>263887632</td>\n",
       "      <td>59778</td>\n",
       "      <td>41923</td>\n",
       "      <td>1130.0</td>\n",
       "      <td>1378.0</td>\n",
       "    </tr>\n",
       "    <tr>\n",
       "      <th>3</th>\n",
       "      <td>1084</td>\n",
       "      <td>2016</td>\n",
       "      <td>ASR_BRG</td>\n",
       "      <td>Burglary</td>\n",
       "      <td>13310</td>\n",
       "      <td>264534532</td>\n",
       "      <td>23307</td>\n",
       "      <td>3071</td>\n",
       "      <td>167.0</td>\n",
       "      <td>1474.0</td>\n",
       "      <td>...</td>\n",
       "      <td>727.0</td>\n",
       "      <td>618.0</td>\n",
       "      <td>689.0</td>\n",
       "      <td>833</td>\n",
       "      <td>12581</td>\n",
       "      <td>263887632</td>\n",
       "      <td>14413</td>\n",
       "      <td>11082</td>\n",
       "      <td>368.0</td>\n",
       "      <td>362.0</td>\n",
       "    </tr>\n",
       "    <tr>\n",
       "      <th>4</th>\n",
       "      <td>1085</td>\n",
       "      <td>2016</td>\n",
       "      <td>ASR_CUR</td>\n",
       "      <td>Curfew and Loitering Law Violations</td>\n",
       "      <td>13310</td>\n",
       "      <td>264534532</td>\n",
       "      <td>19218</td>\n",
       "      <td>8319</td>\n",
       "      <td>110.0</td>\n",
       "      <td>1184.0</td>\n",
       "      <td>...</td>\n",
       "      <td>1991.0</td>\n",
       "      <td>1887.0</td>\n",
       "      <td>2267.0</td>\n",
       "      <td>1701</td>\n",
       "      <td>12581</td>\n",
       "      <td>263887632</td>\n",
       "      <td>15468</td>\n",
       "      <td>11045</td>\n",
       "      <td>382.0</td>\n",
       "      <td>429.0</td>\n",
       "    </tr>\n",
       "    <tr>\n",
       "      <th>...</th>\n",
       "      <td>...</td>\n",
       "      <td>...</td>\n",
       "      <td>...</td>\n",
       "      <td>...</td>\n",
       "      <td>...</td>\n",
       "      <td>...</td>\n",
       "      <td>...</td>\n",
       "      <td>...</td>\n",
       "      <td>...</td>\n",
       "      <td>...</td>\n",
       "      <td>...</td>\n",
       "      <td>...</td>\n",
       "      <td>...</td>\n",
       "      <td>...</td>\n",
       "      <td>...</td>\n",
       "      <td>...</td>\n",
       "      <td>...</td>\n",
       "      <td>...</td>\n",
       "      <td>...</td>\n",
       "      <td>...</td>\n",
       "      <td>...</td>\n",
       "    </tr>\n",
       "    <tr>\n",
       "      <th>685</th>\n",
       "      <td>446</td>\n",
       "      <td>1994</td>\n",
       "      <td>ASR_STP</td>\n",
       "      <td>Stolen Property</td>\n",
       "      <td>10713</td>\n",
       "      <td>208091172</td>\n",
       "      <td>32205</td>\n",
       "      <td>4105</td>\n",
       "      <td>211.0</td>\n",
       "      <td>1677.0</td>\n",
       "      <td>...</td>\n",
       "      <td>1150.0</td>\n",
       "      <td>905.0</td>\n",
       "      <td>937.0</td>\n",
       "      <td>863</td>\n",
       "      <td>10282</td>\n",
       "      <td>207684879</td>\n",
       "      <td>21242</td>\n",
       "      <td>14077</td>\n",
       "      <td>587.0</td>\n",
       "      <td>364.0</td>\n",
       "    </tr>\n",
       "    <tr>\n",
       "      <th>686</th>\n",
       "      <td>447</td>\n",
       "      <td>1994</td>\n",
       "      <td>ASR_SUS</td>\n",
       "      <td>Suspicion</td>\n",
       "      <td>10713</td>\n",
       "      <td>208091172</td>\n",
       "      <td>1389</td>\n",
       "      <td>330</td>\n",
       "      <td>30.0</td>\n",
       "      <td>104.0</td>\n",
       "      <td>...</td>\n",
       "      <td>99.0</td>\n",
       "      <td>76.0</td>\n",
       "      <td>64.0</td>\n",
       "      <td>58</td>\n",
       "      <td>10282</td>\n",
       "      <td>207684879</td>\n",
       "      <td>1171</td>\n",
       "      <td>521</td>\n",
       "      <td>5.0</td>\n",
       "      <td>22.0</td>\n",
       "    </tr>\n",
       "    <tr>\n",
       "      <th>687</th>\n",
       "      <td>448</td>\n",
       "      <td>1994</td>\n",
       "      <td>ASR_VAG</td>\n",
       "      <td>Vagrancy</td>\n",
       "      <td>10713</td>\n",
       "      <td>208091172</td>\n",
       "      <td>2979</td>\n",
       "      <td>683</td>\n",
       "      <td>15.0</td>\n",
       "      <td>127.0</td>\n",
       "      <td>...</td>\n",
       "      <td>206.0</td>\n",
       "      <td>143.0</td>\n",
       "      <td>159.0</td>\n",
       "      <td>149</td>\n",
       "      <td>10282</td>\n",
       "      <td>207684879</td>\n",
       "      <td>2599</td>\n",
       "      <td>1010</td>\n",
       "      <td>40.0</td>\n",
       "      <td>13.0</td>\n",
       "    </tr>\n",
       "    <tr>\n",
       "      <th>688</th>\n",
       "      <td>449</td>\n",
       "      <td>1994</td>\n",
       "      <td>ASR_VAN</td>\n",
       "      <td>Vandalism</td>\n",
       "      <td>10713</td>\n",
       "      <td>208091172</td>\n",
       "      <td>110175</td>\n",
       "      <td>12616</td>\n",
       "      <td>5621.0</td>\n",
       "      <td>16102.0</td>\n",
       "      <td>...</td>\n",
       "      <td>4161.0</td>\n",
       "      <td>2272.0</td>\n",
       "      <td>2050.0</td>\n",
       "      <td>1864</td>\n",
       "      <td>10282</td>\n",
       "      <td>207684879</td>\n",
       "      <td>98391</td>\n",
       "      <td>20722</td>\n",
       "      <td>2073.0</td>\n",
       "      <td>1257.0</td>\n",
       "    </tr>\n",
       "    <tr>\n",
       "      <th>689</th>\n",
       "      <td>450</td>\n",
       "      <td>1994</td>\n",
       "      <td>ASR_WEAP</td>\n",
       "      <td>Weapons</td>\n",
       "      <td>10713</td>\n",
       "      <td>208091172</td>\n",
       "      <td>48128</td>\n",
       "      <td>4235</td>\n",
       "      <td>562.0</td>\n",
       "      <td>3043.0</td>\n",
       "      <td>...</td>\n",
       "      <td>1451.0</td>\n",
       "      <td>878.0</td>\n",
       "      <td>782.0</td>\n",
       "      <td>687</td>\n",
       "      <td>10282</td>\n",
       "      <td>207684879</td>\n",
       "      <td>32308</td>\n",
       "      <td>18786</td>\n",
       "      <td>846.0</td>\n",
       "      <td>380.0</td>\n",
       "    </tr>\n",
       "  </tbody>\n",
       "</table>\n",
       "<p>690 rows × 26 columns</p>\n",
       "</div>"
      ],
      "text/plain": [
       "       id  year offense_code                         offense_name  agencies  \\\n",
       "0    1081  2016    ASR_ARSON                                Arson     13310   \n",
       "1    1082  2016      ASR_AST                   Aggravated Assault     13310   \n",
       "2    1083  2016  ASR_AST_SMP                       Simple Assault     13310   \n",
       "3    1084  2016      ASR_BRG                             Burglary     13310   \n",
       "4    1085  2016      ASR_CUR  Curfew and Loitering Law Violations     13310   \n",
       "..    ...   ...          ...                                  ...       ...   \n",
       "685   446  1994      ASR_STP                      Stolen Property     10713   \n",
       "686   447  1994      ASR_SUS                            Suspicion     10713   \n",
       "687   448  1994      ASR_VAG                             Vagrancy     10713   \n",
       "688   449  1994      ASR_VAN                            Vandalism     10713   \n",
       "689   450  1994     ASR_WEAP                              Weapons     10713   \n",
       "\n",
       "     population  total_male  total_female   m_0_9  m_10_12  ...  f_13_14  \\\n",
       "0     264534532        1760           328   117.0    368.0  ...    114.0   \n",
       "1     264534532       16997          5918   141.0   1406.0  ...   1565.0   \n",
       "2     264534532       66360         38712  1043.0   7406.0  ...  11210.0   \n",
       "3     264534532       23307          3071   167.0   1474.0  ...    727.0   \n",
       "4     264534532       19218          8319   110.0   1184.0  ...   1991.0   \n",
       "..          ...         ...           ...     ...      ...  ...      ...   \n",
       "685   208091172       32205          4105   211.0   1677.0  ...   1150.0   \n",
       "686   208091172        1389           330    30.0    104.0  ...     99.0   \n",
       "687   208091172        2979           683    15.0    127.0  ...    206.0   \n",
       "688   208091172      110175         12616  5621.0  16102.0  ...   4161.0   \n",
       "689   208091172       48128          4235   562.0   3043.0  ...   1451.0   \n",
       "\n",
       "       f_15    f_16  f_17  race_agencies  race_population  white  black  \\\n",
       "0      66.0    39.0    43          12581        263887632   1436    516   \n",
       "1    1171.0  1337.0  1361          12581        263887632  12370   9736   \n",
       "2    8036.0  8264.0  7590          12581        263887632  59778  41923   \n",
       "3     618.0   689.0   833          12581        263887632  14413  11082   \n",
       "4    1887.0  2267.0  1701          12581        263887632  15468  11045   \n",
       "..      ...     ...   ...            ...              ...    ...    ...   \n",
       "685   905.0   937.0   863          10282        207684879  21242  14077   \n",
       "686    76.0    64.0    58          10282        207684879   1171    521   \n",
       "687   143.0   159.0   149          10282        207684879   2599   1010   \n",
       "688  2272.0  2050.0  1864          10282        207684879  98391  20722   \n",
       "689   878.0   782.0   687          10282        207684879  32308  18786   \n",
       "\n",
       "     asian_pacific_islander  american_indian  \n",
       "0                      41.0             48.0  \n",
       "1                     296.0            364.0  \n",
       "2                    1130.0           1378.0  \n",
       "3                     368.0            362.0  \n",
       "4                     382.0            429.0  \n",
       "..                      ...              ...  \n",
       "685                   587.0            364.0  \n",
       "686                     5.0             22.0  \n",
       "687                    40.0             13.0  \n",
       "688                  2073.0           1257.0  \n",
       "689                   846.0            380.0  \n",
       "\n",
       "[690 rows x 26 columns]"
      ]
     },
     "execution_count": 5,
     "metadata": {},
     "output_type": "execute_result"
    }
   ],
   "source": [
    "# 'dropeamos' la columna state_abbr que esta llena de nulos\n",
    "\n",
    "df = df.drop('state_abbr', axis=1)\n",
    "df"
   ]
  },
  {
   "cell_type": "code",
   "execution_count": 6,
   "id": "a4043ddf",
   "metadata": {},
   "outputs": [],
   "source": [
    "columns = df.columns"
   ]
  },
  {
   "cell_type": "code",
   "execution_count": 7,
   "id": "55240a6c",
   "metadata": {},
   "outputs": [
    {
     "data": {
      "text/plain": [
       "['m_0_9', 'm_10_12', 'm_13_14', 'm_15', 'm_16', 'm_17']"
      ]
     },
     "execution_count": 7,
     "metadata": {},
     "output_type": "execute_result"
    }
   ],
   "source": [
    "male_to_replace = [name for name in columns\n",
    "                  if name.startswith('m')]\n",
    "male_to_replace"
   ]
  },
  {
   "cell_type": "code",
   "execution_count": 8,
   "id": "9318cdf6",
   "metadata": {},
   "outputs": [
    {
     "data": {
      "text/plain": [
       "['male_0_9', 'male_10_12', 'male_13_14', 'male_15', 'male_16', 'male_17']"
      ]
     },
     "execution_count": 8,
     "metadata": {},
     "output_type": "execute_result"
    }
   ],
   "source": [
    "replacement = [re.sub('^m', 'male', name) \n",
    "              for name in male_to_replace]\n",
    "replacement"
   ]
  },
  {
   "cell_type": "code",
   "execution_count": 9,
   "id": "51b8444b",
   "metadata": {
    "scrolled": true
   },
   "outputs": [
    {
     "data": {
      "text/plain": [
       "{'m_0_9': 'male_0_9',\n",
       " 'm_10_12': 'male_10_12',\n",
       " 'm_13_14': 'male_13_14',\n",
       " 'm_15': 'male_15',\n",
       " 'm_16': 'male_16',\n",
       " 'm_17': 'male_17'}"
      ]
     },
     "execution_count": 9,
     "metadata": {},
     "output_type": "execute_result"
    }
   ],
   "source": [
    "male_dict_names = dict(zip(male_to_replace, replacement))\n",
    "male_dict_names"
   ]
  },
  {
   "cell_type": "code",
   "execution_count": 10,
   "id": "ec282403",
   "metadata": {},
   "outputs": [],
   "source": [
    "df.rename(columns=male_dict_names, inplace=True)"
   ]
  },
  {
   "cell_type": "code",
   "execution_count": 11,
   "id": "c6c82a88",
   "metadata": {},
   "outputs": [
    {
     "data": {
      "text/plain": [
       "Index(['id', 'year', 'offense_code', 'offense_name', 'agencies', 'population',\n",
       "       'total_male', 'total_female', 'male_0_9', 'male_10_12', 'male_13_14',\n",
       "       'male_15', 'male_16', 'male_17', 'f_0_9', 'f_10_12', 'f_13_14', 'f_15',\n",
       "       'f_16', 'f_17', 'race_agencies', 'race_population', 'white', 'black',\n",
       "       'asian_pacific_islander', 'american_indian'],\n",
       "      dtype='object')"
      ]
     },
     "execution_count": 11,
     "metadata": {},
     "output_type": "execute_result"
    }
   ],
   "source": [
    "df.columns"
   ]
  },
  {
   "cell_type": "code",
   "execution_count": 12,
   "id": "284b20bb",
   "metadata": {},
   "outputs": [],
   "source": [
    "columns = df.columns"
   ]
  },
  {
   "cell_type": "code",
   "execution_count": 13,
   "id": "4f4317af",
   "metadata": {},
   "outputs": [
    {
     "data": {
      "text/plain": [
       "['f_0_9', 'f_10_12', 'f_13_14', 'f_15', 'f_16', 'f_17']"
      ]
     },
     "execution_count": 13,
     "metadata": {},
     "output_type": "execute_result"
    }
   ],
   "source": [
    "female = '^f'\n",
    "female_to_replace = [name for name in columns\n",
    "                    if re.findall(female, name)]\n",
    "female_to_replace"
   ]
  },
  {
   "cell_type": "code",
   "execution_count": 14,
   "id": "7154ac51",
   "metadata": {},
   "outputs": [
    {
     "data": {
      "text/plain": [
       "['female_0_9',\n",
       " 'female_10_12',\n",
       " 'female_13_14',\n",
       " 'female_15',\n",
       " 'female_16',\n",
       " 'female_17']"
      ]
     },
     "execution_count": 14,
     "metadata": {},
     "output_type": "execute_result"
    }
   ],
   "source": [
    "replacement = [re.sub('^f', 'female', name) \n",
    "              for name in female_to_replace]\n",
    "replacement"
   ]
  },
  {
   "cell_type": "code",
   "execution_count": 15,
   "id": "18f88004",
   "metadata": {},
   "outputs": [
    {
     "data": {
      "text/plain": [
       "{'f_0_9': 'female_0_9',\n",
       " 'f_10_12': 'female_10_12',\n",
       " 'f_13_14': 'female_13_14',\n",
       " 'f_15': 'female_15',\n",
       " 'f_16': 'female_16',\n",
       " 'f_17': 'female_17'}"
      ]
     },
     "execution_count": 15,
     "metadata": {},
     "output_type": "execute_result"
    }
   ],
   "source": [
    "female_dict_names = dict(zip(female_to_replace, replacement))\n",
    "female_dict_names"
   ]
  },
  {
   "cell_type": "code",
   "execution_count": 16,
   "id": "21260e9e",
   "metadata": {},
   "outputs": [],
   "source": [
    "df.rename(columns=female_dict_names, inplace=True)"
   ]
  },
  {
   "cell_type": "code",
   "execution_count": 17,
   "id": "e5911653",
   "metadata": {},
   "outputs": [
    {
     "data": {
      "text/plain": [
       "Index(['id', 'year', 'offense_code', 'offense_name', 'agencies', 'population',\n",
       "       'total_male', 'total_female', 'male_0_9', 'male_10_12', 'male_13_14',\n",
       "       'male_15', 'male_16', 'male_17', 'female_0_9', 'female_10_12',\n",
       "       'female_13_14', 'female_15', 'female_16', 'female_17', 'race_agencies',\n",
       "       'race_population', 'white', 'black', 'asian_pacific_islander',\n",
       "       'american_indian'],\n",
       "      dtype='object')"
      ]
     },
     "execution_count": 17,
     "metadata": {},
     "output_type": "execute_result"
    }
   ],
   "source": [
    "df.columns"
   ]
  },
  {
   "cell_type": "code",
   "execution_count": 18,
   "id": "40f8e428",
   "metadata": {},
   "outputs": [
    {
     "name": "stdout",
     "output_type": "stream",
     "text": [
      "<class 'pandas.core.frame.DataFrame'>\n",
      "RangeIndex: 690 entries, 0 to 689\n",
      "Data columns (total 26 columns):\n",
      " #   Column                  Non-Null Count  Dtype  \n",
      "---  ------                  --------------  -----  \n",
      " 0   id                      690 non-null    int64  \n",
      " 1   year                    690 non-null    int64  \n",
      " 2   offense_code            690 non-null    object \n",
      " 3   offense_name            690 non-null    object \n",
      " 4   agencies                690 non-null    int64  \n",
      " 5   population              690 non-null    int64  \n",
      " 6   total_male              690 non-null    int64  \n",
      " 7   total_female            690 non-null    int64  \n",
      " 8   male_0_9                654 non-null    float64\n",
      " 9   male_10_12              685 non-null    float64\n",
      " 10  male_13_14              690 non-null    int64  \n",
      " 11  male_15                 690 non-null    int64  \n",
      " 12  male_16                 690 non-null    int64  \n",
      " 13  male_17                 690 non-null    int64  \n",
      " 14  female_0_9              594 non-null    float64\n",
      " 15  female_10_12            651 non-null    float64\n",
      " 16  female_13_14            681 non-null    float64\n",
      " 17  female_15               684 non-null    float64\n",
      " 18  female_16               687 non-null    float64\n",
      " 19  female_17               690 non-null    int64  \n",
      " 20  race_agencies           690 non-null    int64  \n",
      " 21  race_population         690 non-null    int64  \n",
      " 22  white                   690 non-null    int64  \n",
      " 23  black                   690 non-null    int64  \n",
      " 24  asian_pacific_islander  678 non-null    float64\n",
      " 25  american_indian         661 non-null    float64\n",
      "dtypes: float64(9), int64(15), object(2)\n",
      "memory usage: 140.3+ KB\n"
     ]
    }
   ],
   "source": [
    "# existen columnas con valores nulos.\n",
    "# estos valores nulos significa que hubo 0 arrestos para esa 'categoria'.\n",
    "df.info()"
   ]
  },
  {
   "cell_type": "code",
   "execution_count": 19,
   "id": "9398cb9c",
   "metadata": {},
   "outputs": [],
   "source": [
    "# reemplazar nulos por 0 en todo el df\n",
    "df = df.fillna(0)"
   ]
  },
  {
   "cell_type": "code",
   "execution_count": 20,
   "id": "d2138579",
   "metadata": {},
   "outputs": [
    {
     "name": "stdout",
     "output_type": "stream",
     "text": [
      "<class 'pandas.core.frame.DataFrame'>\n",
      "RangeIndex: 690 entries, 0 to 689\n",
      "Data columns (total 26 columns):\n",
      " #   Column                  Non-Null Count  Dtype  \n",
      "---  ------                  --------------  -----  \n",
      " 0   id                      690 non-null    int64  \n",
      " 1   year                    690 non-null    int64  \n",
      " 2   offense_code            690 non-null    object \n",
      " 3   offense_name            690 non-null    object \n",
      " 4   agencies                690 non-null    int64  \n",
      " 5   population              690 non-null    int64  \n",
      " 6   total_male              690 non-null    int64  \n",
      " 7   total_female            690 non-null    int64  \n",
      " 8   male_0_9                690 non-null    float64\n",
      " 9   male_10_12              690 non-null    float64\n",
      " 10  male_13_14              690 non-null    int64  \n",
      " 11  male_15                 690 non-null    int64  \n",
      " 12  male_16                 690 non-null    int64  \n",
      " 13  male_17                 690 non-null    int64  \n",
      " 14  female_0_9              690 non-null    float64\n",
      " 15  female_10_12            690 non-null    float64\n",
      " 16  female_13_14            690 non-null    float64\n",
      " 17  female_15               690 non-null    float64\n",
      " 18  female_16               690 non-null    float64\n",
      " 19  female_17               690 non-null    int64  \n",
      " 20  race_agencies           690 non-null    int64  \n",
      " 21  race_population         690 non-null    int64  \n",
      " 22  white                   690 non-null    int64  \n",
      " 23  black                   690 non-null    int64  \n",
      " 24  asian_pacific_islander  690 non-null    float64\n",
      " 25  american_indian         690 non-null    float64\n",
      "dtypes: float64(9), int64(15), object(2)\n",
      "memory usage: 140.3+ KB\n"
     ]
    }
   ],
   "source": [
    "# ahora tenemos valores 'float' donde deberia de ser 'int'\n",
    "# ya que son personas\n",
    "df.info()"
   ]
  },
  {
   "cell_type": "code",
   "execution_count": 21,
   "id": "975782ab",
   "metadata": {},
   "outputs": [
    {
     "data": {
      "text/plain": [
       "['male_0_9',\n",
       " 'male_10_12',\n",
       " 'female_0_9',\n",
       " 'female_10_12',\n",
       " 'female_13_14',\n",
       " 'female_15',\n",
       " 'female_16',\n",
       " 'asian_pacific_islander',\n",
       " 'american_indian']"
      ]
     },
     "execution_count": 21,
     "metadata": {},
     "output_type": "execute_result"
    }
   ],
   "source": [
    "float_columns = []\n",
    "\n",
    "for colname, coltype in df.dtypes.iteritems():\n",
    "    if coltype == 'float64':\n",
    "        float_columns.append(colname)\n",
    "        \n",
    "float_columns"
   ]
  },
  {
   "cell_type": "code",
   "execution_count": 22,
   "id": "ea1f9c91",
   "metadata": {
    "scrolled": true
   },
   "outputs": [],
   "source": [
    "# convertir columnas 'float' a 'int'\n",
    "df[float_columns] = df[float_columns].apply(np.int64)"
   ]
  },
  {
   "cell_type": "code",
   "execution_count": 23,
   "id": "a17a082c",
   "metadata": {},
   "outputs": [
    {
     "name": "stdout",
     "output_type": "stream",
     "text": [
      "<class 'pandas.core.frame.DataFrame'>\n",
      "RangeIndex: 690 entries, 0 to 689\n",
      "Data columns (total 26 columns):\n",
      " #   Column                  Non-Null Count  Dtype \n",
      "---  ------                  --------------  ----- \n",
      " 0   id                      690 non-null    int64 \n",
      " 1   year                    690 non-null    int64 \n",
      " 2   offense_code            690 non-null    object\n",
      " 3   offense_name            690 non-null    object\n",
      " 4   agencies                690 non-null    int64 \n",
      " 5   population              690 non-null    int64 \n",
      " 6   total_male              690 non-null    int64 \n",
      " 7   total_female            690 non-null    int64 \n",
      " 8   male_0_9                690 non-null    int64 \n",
      " 9   male_10_12              690 non-null    int64 \n",
      " 10  male_13_14              690 non-null    int64 \n",
      " 11  male_15                 690 non-null    int64 \n",
      " 12  male_16                 690 non-null    int64 \n",
      " 13  male_17                 690 non-null    int64 \n",
      " 14  female_0_9              690 non-null    int64 \n",
      " 15  female_10_12            690 non-null    int64 \n",
      " 16  female_13_14            690 non-null    int64 \n",
      " 17  female_15               690 non-null    int64 \n",
      " 18  female_16               690 non-null    int64 \n",
      " 19  female_17               690 non-null    int64 \n",
      " 20  race_agencies           690 non-null    int64 \n",
      " 21  race_population         690 non-null    int64 \n",
      " 22  white                   690 non-null    int64 \n",
      " 23  black                   690 non-null    int64 \n",
      " 24  asian_pacific_islander  690 non-null    int64 \n",
      " 25  american_indian         690 non-null    int64 \n",
      "dtypes: int64(24), object(2)\n",
      "memory usage: 140.3+ KB\n"
     ]
    }
   ],
   "source": [
    "df.info()"
   ]
  },
  {
   "cell_type": "code",
   "execution_count": 24,
   "id": "035e8ce0",
   "metadata": {},
   "outputs": [],
   "source": [
    "df.to_csv('clean_arrests_usa_juvenile.csv')"
   ]
  }
 ],
 "metadata": {
  "kernelspec": {
   "display_name": "Python 3 (ipykernel)",
   "language": "python",
   "name": "python3"
  },
  "language_info": {
   "codemirror_mode": {
    "name": "ipython",
    "version": 3
   },
   "file_extension": ".py",
   "mimetype": "text/x-python",
   "name": "python",
   "nbconvert_exporter": "python",
   "pygments_lexer": "ipython3",
   "version": "3.9.12"
  }
 },
 "nbformat": 4,
 "nbformat_minor": 5
}
